{
 "cells": [
  {
   "cell_type": "code",
   "execution_count": 3,
   "metadata": {},
   "outputs": [],
   "source": [
    "import matplotlib.pyplot as plt\n",
    "from scipy.io import loadmat\n",
    "import numpy"
   ]
  },
  {
   "cell_type": "code",
   "execution_count": 7,
   "metadata": {},
   "outputs": [],
   "source": [
    "def plotLockExchange(filepath,yourTitle):\n",
    "    data=loadmat(filepath)\n",
    "    #data = loadmat(\"/Users/chityantoe/Downloads/SWASHtestcases/t52lock/t52lok02.mat\")\n",
    "    np=numpy.ndarray.tolist(data['Xp'])[0] # first change ndarray to list, then remove extra bracket i.e. take out index 0 column\n",
    "    len(np);\n",
    "    s = numpy.ones((len(np),30+1))\n",
    "    z = numpy.ones((len(np), 30+1))\n",
    "    x = numpy.ones((len(np), 30+1))\n",
    "\n",
    "    kmax = 30;\n",
    "    for i in range(len(np)):\n",
    "        for k in range(1,kmax+1):\n",
    "            if k < 10:\n",
    "                exec('s[:,k]=numpy.ndarray.tolist(data[\"Salk0\" +  str(k) + \"_000049_999\"])[0]') # You need to change _000049_999 according to .mat file\n",
    "                exec('z[:,k]=numpy.ndarray.tolist(data[\"zk0\" +  str(k) + \"_000049_999\"])[0]')\n",
    "                exec('x[:,k]=numpy.ndarray.tolist(data[\"Xp\"])[0]')\n",
    "            else:\n",
    "                exec('s[:,k]=numpy.ndarray.tolist(data[\"Salk\" +  str(k) + \"_000049_999\"])[0]')\n",
    "                exec('z[:,k]=numpy.ndarray.tolist(data[\"zk\" +  str(k) + \"_000049_999\"])[0]')\n",
    "                exec('x[:,k]=numpy.ndarray.tolist(data[\"Xp\"])[0]')\n",
    "    fig = plt.figure()\n",
    "    ax = fig.gca()\n",
    "    ax.axis([x.min(), x.max(), 0, 0.29])\n",
    "    ax.pcolor(x,z+0.3,s)\n",
    "    ax.set_title(yourTitle)\n",
    "    ax.set_aspect('equal')\n",
    "\n",
    "\n",
    "\n",
    "    "
   ]
  },
  {
   "cell_type": "code",
   "execution_count": 8,
   "metadata": {},
   "outputs": [
    {
     "data": {
      "image/png": "[encoded data removed]",
      "text/plain": [
       "<Figure size 432x288 with 1 Axes>"
      ]
     },
     "metadata": {
      "needs_background": "light"
     },
     "output_type": "display_data"
    }
   ],
   "source": [
    "plotLockExchange(\"/Users/chityantoe/Downloads/SWASHtestcases/t52lock/t52lok02.mat\",\"Non-Hydrostatic\")"
   ]
  },
  {
   "cell_type": "code",
   "execution_count": 6,
   "metadata": {},
   "outputs": [
    {
     "ename": "KeyError",
     "evalue": "'Salk01_000049_999'",
     "output_type": "error",
     "traceback": [
      "\u001b[0;31m---------------------------------------------------------------------------\u001b[0m",
      "\u001b[0;31mKeyError\u001b[0m                                  Traceback (most recent call last)",
      "\u001b[0;32m<ipython-input-6-29231a2eb8f9>\u001b[0m in \u001b[0;36m<module>\u001b[0;34m()\u001b[0m\n\u001b[0;32m----> 1\u001b[0;31m \u001b[0mplotLockExchange\u001b[0m\u001b[0;34m(\u001b[0m\u001b[0;34m\"/Users/chityantoe/Downloads/SWASHtestcases/t52lock/t52lok01.mat\"\u001b[0m\u001b[0;34m,\u001b[0m \u001b[0;34m\"Hydrostatic\"\u001b[0m\u001b[0;34m)\u001b[0m\u001b[0;34m\u001b[0m\u001b[0m\n\u001b[0m",
      "\u001b[0;32m<ipython-input-4-9625f96b80f6>\u001b[0m in \u001b[0;36mplotLockExchange\u001b[0;34m(filepath, yourTitle)\u001b[0m\n\u001b[1;32m     12\u001b[0m         \u001b[0;32mfor\u001b[0m \u001b[0mk\u001b[0m \u001b[0;32min\u001b[0m \u001b[0mrange\u001b[0m\u001b[0;34m(\u001b[0m\u001b[0;36m1\u001b[0m\u001b[0;34m,\u001b[0m\u001b[0mkmax\u001b[0m\u001b[0;34m+\u001b[0m\u001b[0;36m1\u001b[0m\u001b[0;34m)\u001b[0m\u001b[0;34m:\u001b[0m\u001b[0;34m\u001b[0m\u001b[0m\n\u001b[1;32m     13\u001b[0m             \u001b[0;32mif\u001b[0m \u001b[0mk\u001b[0m \u001b[0;34m<\u001b[0m \u001b[0;36m10\u001b[0m\u001b[0;34m:\u001b[0m\u001b[0;34m\u001b[0m\u001b[0m\n\u001b[0;32m---> 14\u001b[0;31m                 \u001b[0mexec\u001b[0m\u001b[0;34m(\u001b[0m\u001b[0;34m's[:,k]=numpy.ndarray.tolist(data[\"Salk0\" +  str(k) + \"_000049_999\"])[0]'\u001b[0m\u001b[0;34m)\u001b[0m \u001b[0;31m# You need to change _000049_999 according to .mat file\u001b[0m\u001b[0;34m\u001b[0m\u001b[0m\n\u001b[0m\u001b[1;32m     15\u001b[0m                 \u001b[0mexec\u001b[0m\u001b[0;34m(\u001b[0m\u001b[0;34m'z[:,k]=numpy.ndarray.tolist(data[\"zk0\" +  str(k) + \"_000049_999\"])[0]'\u001b[0m\u001b[0;34m)\u001b[0m\u001b[0;34m\u001b[0m\u001b[0m\n\u001b[1;32m     16\u001b[0m                 \u001b[0mexec\u001b[0m\u001b[0;34m(\u001b[0m\u001b[0;34m'x[:,k]=numpy.ndarray.tolist(data[\"Xp\"])[0]'\u001b[0m\u001b[0;34m)\u001b[0m\u001b[0;34m\u001b[0m\u001b[0m\n",
      "\u001b[0;32m<string>\u001b[0m in \u001b[0;36m<module>\u001b[0;34m()\u001b[0m\n",
      "\u001b[0;31mKeyError\u001b[0m: 'Salk01_000049_999'"
     ]
    }
   ],
   "source": [
    "plotLockExchange(\"/Users/chityantoe/Downloads/SWASHtestcases/t52lock/t52lok01.mat\", \"Hydrostatic\")"
   ]
  },
  {
   "cell_type": "code",
   "execution_count": null,
   "metadata": {},
   "outputs": [],
   "source": []
  }
 ],
 "metadata": {
  "kernelspec": {
   "display_name": "Python 3",
   "language": "python",
   "name": "python3"
  },
  "language_info": {
   "codemirror_mode": {
    "name": "ipython",
    "version": 3
   },
   "file_extension": ".py",
   "mimetype": "text/x-python",
   "name": "python",
   "nbconvert_exporter": "python",
   "pygments_lexer": "ipython3",
   "version": "3.6.6"
  }
 },
 "nbformat": 4,
 "nbformat_minor": 2
}
